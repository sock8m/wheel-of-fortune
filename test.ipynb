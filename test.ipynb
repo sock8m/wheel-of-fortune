{
 "cells": [
  {
   "cell_type": "code",
   "execution_count": 24,
   "metadata": {},
   "outputs": [],
   "source": [
    "roundNum = 0\n",
    "dictionary = []\n",
    "turntext = \"\"\n",
    "wheellist = []\n",
    "roundWord = \"\"\n",
    "blankWord = []\n",
    "vowels = {\"a\", \"e\", \"i\", \"o\", \"u\"}\n",
    "roundstatus = \"\"\n",
    "finalroundtext = \"\"\n",
    "\n",
    "import random\n",
    "\n",
    "def readDictionaryFile():\n",
    "    global dictionary\n",
    "    # Read dictionary file in from dictionary file location\n",
    "    opendict = open('data/dictionary.txt')\n",
    "    sampledict = opendict.read().splitlines()\n",
    "    opendict.close()\n",
    "    # Store each word in a list.\n",
    "    for word in sampledict:\n",
    "        dictionary.append(word)\n",
    "\n",
    "players={0:{\"roundtotal\":0,\"gametotal\":4,\"name\":\"\"},\n",
    "         1:{\"roundtotal\":0,\"gametotal\":2,\"name\":\"\"},\n",
    "         2:{\"roundtotal\":0,\"gametotal\":3,\"name\":\"\"},\n",
    "        }\n",
    "\n",
    "def getPlayerInfo():\n",
    "    global players\n",
    "    # read in player names from command prompt input\n",
    "    for i in range(0,len(players)):\n",
    "        players[i][\"name\"] = str(input(f\"Enter the name of player {i+1}: \"))\n",
    "\n",
    "def getWord():\n",
    "    global dictionary\n",
    "    #choose random word from dictionary\n",
    "    roundWord = random.choice(dictionary)\n",
    "    #make a list of the word with underscores instead of letters.\n",
    "    roundUnderscoreWord = []\n",
    "    for i in range(0,len(roundWord)):\n",
    "        roundUnderscoreWord.append(\"_\")\n",
    "    return roundWord,roundUnderscoreWord\n",
    "\n",
    "def wofRoundSetup():\n",
    "    global players\n",
    "    global roundWord\n",
    "    global blankWord\n",
    "    # Set round total for each player = 0\n",
    "    for i in range(0,len(players)):\n",
    "        players[i][\"roundtotal\"] = 0\n",
    "    # Return the starting player number (random)\n",
    "    initPlayer = random.choice([0,1,2])\n",
    "    # Use getWord function to retrieve the word and the underscore word (blankWord)\n",
    "    roundWord, blankWord = getWord()\n",
    "\n",
    "    return initPlayer\n",
    "\n",
    "def readWheelTxtFile():\n",
    "    global wheellist\n",
    "    # read the Wheel name from input using the Config wheelloc file location \n",
    "    openwheel = open('data/wheeldata.txt')\n",
    "    readwheel = openwheel.read().splitlines()\n",
    "    openwheel.close()\n",
    "    # Store each word in a list.\n",
    "    for category in readwheel:\n",
    "        wheellist.append(category)\n",
    "\n",
    "def guessletter(letter, playerNum): \n",
    "    global players\n",
    "    global blankWord\n",
    "    global roundWord\n",
    "\n",
    "    goodGuess = False\n",
    "    count = 0\n",
    "    # parameters:  take in a letter guess and player number\n",
    "    for letternum in range(0,len(roundWord)):\n",
    "    # Change position of found letter in blankWord to the letter instead of underscore \n",
    "        if roundWord[letternum] == letter and letter not in vowels:\n",
    "            blankWord[letternum] = letter\n",
    "    # return goodGuess= true if it was a correct guess\n",
    "            goodGuess = True\n",
    "    # return count of letters in word. \n",
    "            count += 1\n",
    "    # ensure letter is a consonate.\n",
    "    if goodGuess == False:\n",
    "        if letter in vowels:\n",
    "            print(\"You guessed a vowel!\")\n",
    "        else:\n",
    "            print(\"This consonant is not in the word.\")\n",
    "\n",
    "    return goodGuess, count"
   ]
  },
  {
   "cell_type": "code",
   "execution_count": 17,
   "metadata": {},
   "outputs": [
    {
     "name": "stdout",
     "output_type": "stream",
     "text": [
      "Totals:  with $4\n",
      "Totals:  with $2\n",
      "Totals:  with $3\n"
     ]
    }
   ],
   "source": [
    "print(f\"Totals: {players[0]['name']} with ${players[0]['gametotal']}\")\n",
    "print(f\"Totals: {players[1]['name']} with ${players[1]['gametotal']}\")\n",
    "print(f\"Totals: {players[2]['name']} with ${players[2]['gametotal']}\")"
   ]
  },
  {
   "cell_type": "code",
   "execution_count": 26,
   "metadata": {},
   "outputs": [
    {
     "name": "stdout",
     "output_type": "stream",
     "text": [
      "4\n",
      "4 > 0\n",
      "2\n",
      "3\n",
      "0\n"
     ]
    }
   ],
   "source": [
    "players={0:{\"roundtotal\":0,\"gametotal\":4,\"name\":\"\"},\n",
    "         1:{\"roundtotal\":0,\"gametotal\":2,\"name\":\"\"},\n",
    "         2:{\"roundtotal\":0,\"gametotal\":3,\"name\":\"\"},\n",
    "        }\n",
    "\n",
    "gametotalFinal = {}\n",
    "maxGT = 0\n",
    "for item in players.keys():\n",
    "    money = players[item][\"gametotal\"]\n",
    "    print(money)\n",
    "    if money > maxGT: \n",
    "        print(f\"{money} > {maxGT}\")\n",
    "        maxGT = money\n",
    "        player = item\n",
    "\n",
    "print(player)"
   ]
  },
  {
   "cell_type": "code",
   "execution_count": 2,
   "metadata": {},
   "outputs": [
    {
     "name": "stdout",
     "output_type": "stream",
     "text": [
      "Change\n",
      "Change\n"
     ]
    }
   ],
   "source": [
    "readDictionaryFile()\n",
    "roundword = random.choice(dictionary)\n",
    "\n",
    "roundUnderscoreWord = roundword.replace(\" \",\"_\")\n",
    "\n",
    "print(roundword)\n",
    "\n",
    "print(roundUnderscoreWord)"
   ]
  },
  {
   "cell_type": "code",
   "execution_count": 36,
   "metadata": {},
   "outputs": [
    {
     "name": "stdout",
     "output_type": "stream",
     "text": [
      "your\n",
      "This consonant is not in the word.\n"
     ]
    },
    {
     "data": {
      "text/plain": [
       "(False, 0)"
      ]
     },
     "execution_count": 36,
     "metadata": {},
     "output_type": "execute_result"
    }
   ],
   "source": [
    "readDictionaryFile()\n",
    "wofRoundSetup()\n",
    "print(roundWord)\n",
    "guessletter(\"z\",0)"
   ]
  },
  {
   "cell_type": "code",
   "execution_count": 22,
   "metadata": {},
   "outputs": [
    {
     "name": "stdout",
     "output_type": "stream",
     "text": [
      "['LOSE A TURN', 'BANKRUPT', 'BANKRUPT', '$500', '$600', '$700', '$800', '$900', '$1000', '$500', '$600', '$700', '$800', '$900', '$1000', '$200', '$300', '$400', '$500']\n"
     ]
    }
   ],
   "source": [
    "print(wheellist)"
   ]
  },
  {
   "cell_type": "code",
   "execution_count": 23,
   "metadata": {},
   "outputs": [
    {
     "data": {
      "text/plain": [
       "400"
      ]
     },
     "execution_count": 23,
     "metadata": {},
     "output_type": "execute_result"
    }
   ],
   "source": [
    "wheelRoll = \"$400\"\n",
    "int(wheelRoll[1:])"
   ]
  }
 ],
 "metadata": {
  "kernelspec": {
   "display_name": "Python 3.10.5 64-bit (windows store)",
   "language": "python",
   "name": "python3"
  },
  "language_info": {
   "codemirror_mode": {
    "name": "ipython",
    "version": 3
   },
   "file_extension": ".py",
   "mimetype": "text/x-python",
   "name": "python",
   "nbconvert_exporter": "python",
   "pygments_lexer": "ipython3",
   "version": "3.10.5"
  },
  "orig_nbformat": 4,
  "vscode": {
   "interpreter": {
    "hash": "3ff504de8d156e65ed6655087b6df65ba25574129b61f0446dcadf0664f63066"
   }
  }
 },
 "nbformat": 4,
 "nbformat_minor": 2
}
