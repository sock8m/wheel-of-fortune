{
 "cells": [
  {
   "cell_type": "code",
   "execution_count": 25,
   "metadata": {},
   "outputs": [],
   "source": [
    "roundNum = 0\n",
    "dictionary = []\n",
    "turntext = \"\"\n",
    "wheellist = []\n",
    "roundWord = \"\"\n",
    "blankWord = []\n",
    "vowels = {\"a\", \"e\", \"i\", \"o\", \"u\"}\n",
    "roundstatus = \"\"\n",
    "finalroundtext = \"\"\n",
    "\n",
    "import random\n",
    "\n",
    "def readDictionaryFile():\n",
    "    global dictionary\n",
    "    # Read dictionary file in from dictionary file location\n",
    "    opendict = open('data/dictionary.txt')\n",
    "    sampledict = opendict.read().splitlines()\n",
    "    opendict.close()\n",
    "    # Store each word in a list.\n",
    "    for word in sampledict:\n",
    "        dictionary.append(word)\n",
    "\n",
    "players={0:{\"roundtotal\":0,\"gametotal\":0,\"name\":\"\"},\n",
    "         1:{\"roundtotal\":0,\"gametotal\":0,\"name\":\"\"},\n",
    "         2:{\"roundtotal\":0,\"gametotal\":0,\"name\":\"\"},\n",
    "        }\n",
    "\n",
    "def getPlayerInfo():\n",
    "    global players\n",
    "    # read in player names from command prompt input\n",
    "    for i in range(0,len(players)):\n",
    "        players[i][\"name\"] = str(input(f\"Enter the name of player {i+1}: \"))\n",
    "\n",
    "def getWord():\n",
    "    global dictionary\n",
    "    #choose random word from dictionary\n",
    "    roundWord = random.choice(dictionary)\n",
    "    #make a list of the word with underscores instead of letters.\n",
    "    roundUnderscoreWord = []\n",
    "    for i in range(0,len(roundWord)):\n",
    "        roundUnderscoreWord.append(\"_\")\n",
    "    return roundWord,roundUnderscoreWord\n",
    "\n",
    "def wofRoundSetup():\n",
    "    global players\n",
    "    global roundWord\n",
    "    global blankWord\n",
    "    # Set round total for each player = 0\n",
    "    for i in range(0,len(players)):\n",
    "        players[i][\"roundtotal\"] = 0\n",
    "    # Return the starting player number (random)\n",
    "    initPlayer = random.choice([0,1,2])\n",
    "    # Use getWord function to retrieve the word and the underscore word (blankWord)\n",
    "    roundWord, blankWord = getWord()\n",
    "\n",
    "    return initPlayer\n",
    "\n",
    "def readWheelTxtFile():\n",
    "    global wheellist\n",
    "    # read the Wheel name from input using the Config wheelloc file location \n",
    "    openwheel = open('data/wheeldata.txt')\n",
    "    readwheel = openwheel.read().splitlines()\n",
    "    openwheel.close()\n",
    "    # Store each word in a list.\n",
    "    for category in readwheel:\n",
    "        wheellist.append(category)\n",
    "\n",
    "def guessletter(letter, playerNum): \n",
    "    global players\n",
    "    global blankWord\n",
    "    global roundWord\n",
    "\n",
    "    goodGuess = False\n",
    "    count = 0\n",
    "    # parameters:  take in a letter guess and player number\n",
    "    for letternum in range(0,len(roundWord)):\n",
    "    # Change position of found letter in blankWord to the letter instead of underscore \n",
    "        if roundWord[letternum] == letter and letter not in vowels:\n",
    "            blankWord[letternum] = letter\n",
    "    # return goodGuess= true if it was a correct guess\n",
    "            goodGuess = True\n",
    "    # return count of letters in word. \n",
    "            count += 1\n",
    "    # ensure letter is a consonate.\n",
    "        elif letter in vowels:\n",
    "            print(\"You guessed a vowel!\")\n",
    "        else:\n",
    "            print(\"This consonant is not in the word.\")\n",
    "\n",
    "    return goodGuess, count"
   ]
  },
  {
   "cell_type": "code",
   "execution_count": null,
   "metadata": {},
   "outputs": [],
   "source": []
  },
  {
   "cell_type": "code",
   "execution_count": 30,
   "metadata": {},
   "outputs": [
    {
     "name": "stdout",
     "output_type": "stream",
     "text": [
      "to\n"
     ]
    },
    {
     "ename": "TypeError",
     "evalue": "list indices must be integers or slices, not str",
     "output_type": "error",
     "traceback": [
      "\u001b[1;31m---------------------------------------------------------------------------\u001b[0m",
      "\u001b[1;31mTypeError\u001b[0m                                 Traceback (most recent call last)",
      "\u001b[1;32mc:\\Users\\Yiqing Guo\\Documents\\repositories\\wheel-of-fortune\\test.ipynb Cell 3'\u001b[0m in \u001b[0;36m<cell line: 4>\u001b[1;34m()\u001b[0m\n\u001b[0;32m      <a href='vscode-notebook-cell:/c%3A/Users/Yiqing%20Guo/Documents/repositories/wheel-of-fortune/test.ipynb#ch0000001?line=1'>2</a>\u001b[0m wofRoundSetup()\n\u001b[0;32m      <a href='vscode-notebook-cell:/c%3A/Users/Yiqing%20Guo/Documents/repositories/wheel-of-fortune/test.ipynb#ch0000001?line=2'>3</a>\u001b[0m \u001b[39mprint\u001b[39m(roundWord)\n\u001b[1;32m----> <a href='vscode-notebook-cell:/c%3A/Users/Yiqing%20Guo/Documents/repositories/wheel-of-fortune/test.ipynb#ch0000001?line=3'>4</a>\u001b[0m guessletter(\u001b[39m\"\u001b[39;49m\u001b[39mt\u001b[39;49m\u001b[39m\"\u001b[39;49m,\u001b[39m0\u001b[39;49m)\n",
      "\u001b[1;32mc:\\Users\\Yiqing Guo\\Documents\\repositories\\wheel-of-fortune\\test.ipynb Cell 1'\u001b[0m in \u001b[0;36mguessletter\u001b[1;34m(letter, playerNum)\u001b[0m\n\u001b[0;32m     <a href='vscode-notebook-cell:/c%3A/Users/Yiqing%20Guo/Documents/repositories/wheel-of-fortune/test.ipynb#ch0000000?line=75'>76</a>\u001b[0m \u001b[39mfor\u001b[39;00m roundChar \u001b[39min\u001b[39;00m roundWord:\n\u001b[0;32m     <a href='vscode-notebook-cell:/c%3A/Users/Yiqing%20Guo/Documents/repositories/wheel-of-fortune/test.ipynb#ch0000000?line=76'>77</a>\u001b[0m \u001b[39m# Change position of found letter in blankWord to the letter instead of underscore \u001b[39;00m\n\u001b[0;32m     <a href='vscode-notebook-cell:/c%3A/Users/Yiqing%20Guo/Documents/repositories/wheel-of-fortune/test.ipynb#ch0000000?line=77'>78</a>\u001b[0m     \u001b[39mif\u001b[39;00m roundChar \u001b[39m==\u001b[39m letter \u001b[39mand\u001b[39;00m letter \u001b[39mnot\u001b[39;00m \u001b[39min\u001b[39;00m vowels:\n\u001b[1;32m---> <a href='vscode-notebook-cell:/c%3A/Users/Yiqing%20Guo/Documents/repositories/wheel-of-fortune/test.ipynb#ch0000000?line=78'>79</a>\u001b[0m         blankWord[roundChar] \u001b[39m=\u001b[39m letter\n\u001b[0;32m     <a href='vscode-notebook-cell:/c%3A/Users/Yiqing%20Guo/Documents/repositories/wheel-of-fortune/test.ipynb#ch0000000?line=79'>80</a>\u001b[0m \u001b[39m# return goodGuess= true if it was a correct guess\u001b[39;00m\n\u001b[0;32m     <a href='vscode-notebook-cell:/c%3A/Users/Yiqing%20Guo/Documents/repositories/wheel-of-fortune/test.ipynb#ch0000000?line=80'>81</a>\u001b[0m         goodGuess \u001b[39m=\u001b[39m \u001b[39mTrue\u001b[39;00m\n",
      "\u001b[1;31mTypeError\u001b[0m: list indices must be integers or slices, not str"
     ]
    }
   ],
   "source": [
    "readDictionaryFile()\n",
    "wofRoundSetup()\n",
    "print(roundWord)\n",
    "guessletter(\"t\",0)"
   ]
  },
  {
   "cell_type": "code",
   "execution_count": 22,
   "metadata": {},
   "outputs": [
    {
     "name": "stdout",
     "output_type": "stream",
     "text": [
      "['LOSE A TURN', 'BANKRUPT', 'BANKRUPT', '$500', '$600', '$700', '$800', '$900', '$1000', '$500', '$600', '$700', '$800', '$900', '$1000', '$200', '$300', '$400', '$500']\n"
     ]
    }
   ],
   "source": [
    "print(wheellist)"
   ]
  },
  {
   "cell_type": "code",
   "execution_count": 23,
   "metadata": {},
   "outputs": [
    {
     "data": {
      "text/plain": [
       "400"
      ]
     },
     "execution_count": 23,
     "metadata": {},
     "output_type": "execute_result"
    }
   ],
   "source": [
    "wheelRoll = \"$400\"\n",
    "int(wheelRoll[1:])"
   ]
  }
 ],
 "metadata": {
  "kernelspec": {
   "display_name": "Python 3.10.5 64-bit (windows store)",
   "language": "python",
   "name": "python3"
  },
  "language_info": {
   "codemirror_mode": {
    "name": "ipython",
    "version": 3
   },
   "file_extension": ".py",
   "mimetype": "text/x-python",
   "name": "python",
   "nbconvert_exporter": "python",
   "pygments_lexer": "ipython3",
   "version": "3.10.5"
  },
  "orig_nbformat": 4,
  "vscode": {
   "interpreter": {
    "hash": "3ff504de8d156e65ed6655087b6df65ba25574129b61f0446dcadf0664f63066"
   }
  }
 },
 "nbformat": 4,
 "nbformat_minor": 2
}
